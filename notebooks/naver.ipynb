{
  "nbformat": 4,
  "nbformat_minor": 0,
  "metadata": {
    "colab": {
      "provenance": []
    },
    "kernelspec": {
      "name": "python3",
      "display_name": "Python 3"
    },
    "language_info": {
      "name": "python"
    }
  },
  "cells": [
    {
      "cell_type": "code",
      "execution_count": null,
      "metadata": {
        "id": "vgiJRF4JtL2s",
        "colab": {
          "base_uri": "https://localhost:8080/"
        },
        "outputId": "84cb19f3-11ee-46db-88cc-6591507fb979"
      },
      "outputs": [
        {
          "output_type": "stream",
          "name": "stdout",
          "text": [
            "\u001b[2K   \u001b[90m━━━━━━━━━━━━━━━━━━━━━━━━━━━━━━━━━━━━━━━━\u001b[0m \u001b[32m9.4/9.4 MB\u001b[0m \u001b[31m74.3 MB/s\u001b[0m eta \u001b[36m0:00:00\u001b[0m\n",
            "\u001b[2K   \u001b[90m━━━━━━━━━━━━━━━━━━━━━━━━━━━━━━━━━━━━━━━━\u001b[0m \u001b[32m499.2/499.2 kB\u001b[0m \u001b[31m30.9 MB/s\u001b[0m eta \u001b[36m0:00:00\u001b[0m\n",
            "\u001b[?25h"
          ]
        }
      ],
      "source": [
        "# 1. 이전 설치 제거\n",
        "!rm -rf /opt/chrome\n",
        "!rm -f /usr/bin/chromedriver\n",
        "!rm -f chrome-linux64.zip chromedriver-linux64.zip\n",
        "!rm -rf chrome-linux64 chromedriver-linux64\n",
        "\n",
        "# 2. Chrome 138 설치\n",
        "!wget -q https://storage.googleapis.com/chrome-for-testing-public/138.0.7204.92/linux64/chrome-linux64.zip\n",
        "!unzip -q chrome-linux64.zip\n",
        "!mv chrome-linux64 /opt/chrome\n",
        "\n",
        "# 3. ChromeDriver 138 설치\n",
        "!wget -q https://storage.googleapis.com/chrome-for-testing-public/138.0.7204.92/linux64/chromedriver-linux64.zip\n",
        "!unzip -q chromedriver-linux64.zip\n",
        "!mv chromedriver-linux64/chromedriver /usr/bin/chromedriver\n",
        "!chmod +x /usr/bin/chromedriver\n",
        "\n",
        "# 4. Selenium 설치\n",
        "!pip install -q selenium"
      ]
    },
    {
      "cell_type": "code",
      "source": [
        "import os\n",
        "import re\n",
        "import time\n",
        "from selenium import webdriver\n",
        "from selenium.webdriver.chrome.options import Options\n",
        "from selenium.webdriver.common.by import By\n",
        "from selenium.webdriver.support.ui import WebDriverWait\n",
        "from selenium.webdriver.support import expected_conditions as EC\n",
        "from selenium.webdriver.common.keys import Keys\n",
        "from bs4 import BeautifulSoup"
      ],
      "metadata": {
        "id": "8clyZcSkvYAP"
      },
      "execution_count": null,
      "outputs": []
    },
    {
      "cell_type": "code",
      "source": [
        "# 저장 디렉토리 구성\n",
        "BASE_DIR = \"saved_html\"\n",
        "CATEGORY_DIR = os.path.join(BASE_DIR, \"category_pages\")\n",
        "os.makedirs(CATEGORY_DIR, exist_ok=True)\n",
        "\n",
        "# 셀레니움 드라이버 설정\n",
        "options = Options()\n",
        "options.add_argument(\"--headless=new\")\n",
        "options.add_argument(\"--no-sandbox\")\n",
        "options.add_argument(\"--disable-dev-shm-usage\")\n",
        "options.add_argument(\"--window-size=1920,1080\")\n",
        "\n",
        "driver = webdriver.Chrome(options=options)\n",
        "wait = WebDriverWait(driver, 20)"
      ],
      "metadata": {
        "id": "adxD-gHlva1V"
      },
      "execution_count": null,
      "outputs": []
    },
    {
      "cell_type": "code",
      "source": [
        "def get_categories(main_url):\n",
        "    driver.get(main_url)\n",
        "    time.sleep(5)\n",
        "    soup = BeautifulSoup(driver.page_source, \"html.parser\")\n",
        "    category_tags = soup.find_all(\"li\", class_=\"displayCategoryImageMenu_list__eEKrH\")\n",
        "\n",
        "    categories = []\n",
        "    for li in category_tags:\n",
        "        name_tag = li.find(\"span\", class_=\"displayCategoryImageMenu_title__Wizki\")\n",
        "        name = name_tag.get_text(strip=True) if name_tag else None\n",
        "\n",
        "        button_tag = li.find(\"button\")\n",
        "        relative_url = button_tag.get(\"data-shp-contents-id\") if button_tag else None\n",
        "\n",
        "        # 정렬 조건 강제 추가\n",
        "        full_url = None\n",
        "        if relative_url:\n",
        "            base_url = \"https://shopping.naver.com\" + relative_url\n",
        "            if \"sort=\" in base_url:\n",
        "                full_url = re.sub(r\"sort=[^&]+\", \"sort=DISPLAY_CATEGORY_GENDER_AGE_GROUP_F20\", base_url)\n",
        "            else:\n",
        "                full_url = base_url + \"?sort=DISPLAY_CATEGORY_GENDER_AGE_GROUP_F20\"\n",
        "\n",
        "        if name and full_url:\n",
        "            categories.append({\n",
        "                \"name\": name.replace(\"/\", \"_\"),\n",
        "                \"url\": full_url\n",
        "            })\n",
        "\n",
        "    return categories"
      ],
      "metadata": {
        "id": "yiuxfjlwvaxh"
      },
      "execution_count": null,
      "outputs": []
    },
    {
      "cell_type": "code",
      "source": [
        "from selenium.webdriver.common.action_chains import ActionChains\n",
        "\n",
        "def scroll_and_save_html_by_items(name, url, max_items=500, delay=2, timeout=20):\n",
        "    print(f\"카테고리: {name} 시작 → {url}\")\n",
        "    driver.get(url)\n",
        "\n",
        "    try:\n",
        "        WebDriverWait(driver, timeout).until(\n",
        "            EC.presence_of_element_located((By.CLASS_NAME, \"displayCategoryProductCard_display_category_product_card__od27_\"))\n",
        "        )\n",
        "    except:\n",
        "        print(f\"상품 초기 로딩 실패: {name}\")\n",
        "        return\n",
        "\n",
        "    actions = ActionChains(driver)\n",
        "    scrolls = 0\n",
        "    prev_count = 0\n",
        "\n",
        "    while True:\n",
        "        cards = driver.find_elements(By.CLASS_NAME, \"displayCategoryProductCard_display_category_product_card__od27_\")\n",
        "        count = len(cards)\n",
        "\n",
        "        print(f\"스크롤 {scrolls+1}회 | 상품 수: {count}\")\n",
        "\n",
        "        if count >= max_items:\n",
        "            break\n",
        "        if count == prev_count:\n",
        "            print(\"더 이상 상품이 추가되지 않음\")\n",
        "            break\n",
        "\n",
        "        try:\n",
        "            # 마지막 상품 요소에 마우스를 이동 → 인터섹션 옵저버 발동 유도\n",
        "            last_card = cards[-1]\n",
        "            actions.move_to_element(last_card).perform()\n",
        "        except Exception as e:\n",
        "            print(f\"스크롤 실패: {e}\")\n",
        "            break\n",
        "\n",
        "        time.sleep(delay)\n",
        "        prev_count = count\n",
        "        scrolls += 1\n",
        "\n",
        "    # HTML 저장\n",
        "    os.makedirs(\"saved_html/category_pages\", exist_ok=True)\n",
        "    filename = os.path.join(\"saved_html/category_pages\", f\"{name}.html\")\n",
        "    with open(filename, \"w\", encoding=\"utf-8\") as f:\n",
        "        f.write(driver.page_source)\n",
        "    print(f\"저장 완료: {filename}\")"
      ],
      "metadata": {
        "id": "lhjvjbNZvatK"
      },
      "execution_count": null,
      "outputs": []
    },
    {
      "cell_type": "code",
      "source": [
        "MAIN_URL = \"https://shopping.naver.com/window/fashion-group/category/20006491?sort=DISPLAY_CATEGORY_GENDER_AGE_GROUP_F20\"\n",
        "categories = get_categories(MAIN_URL)\n",
        "\n",
        "for cat in categories[:5]:  # 테스트로 앞 5개만 실행\n",
        "    try:\n",
        "        scroll_and_save_html_by_items(name=cat[\"name\"], url=cat[\"url\"])\n",
        "    except Exception as e:\n",
        "        print(f\"{cat['name']} 처리 중 오류 발생: {e}\")"
      ],
      "metadata": {
        "colab": {
          "base_uri": "https://localhost:8080/"
        },
        "id": "sao8_fSJvalC",
        "outputId": "620b0dd9-8bac-4f41-dc56-94fb8a11049e"
      },
      "execution_count": null,
      "outputs": [
        {
          "output_type": "stream",
          "name": "stdout",
          "text": [
            "카테고리: 전체 시작 → https://shopping.naver.com/window/fashion-group/category/20006491?sort=DISPLAY_CATEGORY_GENDER_AGE_GROUP_F20\n",
            "스크롤 1회 | 상품 수: 40\n",
            "스크롤 2회 | 상품 수: 60\n",
            "스크롤 3회 | 상품 수: 55\n",
            "스크롤 4회 | 상품 수: 55\n",
            "더 이상 상품이 추가되지 않음\n",
            "저장 완료: saved_html/category_pages/전체.html\n",
            "카테고리: 스킨케어 시작 → https://shopping.naver.com/window/fashion-group/category/20006492?sort=DISPLAY_CATEGORY_GENDER_AGE_GROUP_F20\n",
            "스크롤 1회 | 상품 수: 15\n",
            "스크롤 2회 | 상품 수: 40\n",
            "스크롤 3회 | 상품 수: 60\n",
            "스크롤 4회 | 상품 수: 55\n",
            "스크롤 5회 | 상품 수: 55\n",
            "더 이상 상품이 추가되지 않음\n",
            "저장 완료: saved_html/category_pages/스킨케어.html\n",
            "카테고리: 선케어 시작 → https://shopping.naver.com/window/fashion-group/category/20006505?sort=DISPLAY_CATEGORY_GENDER_AGE_GROUP_F20\n",
            "스크롤 1회 | 상품 수: 15\n",
            "스크롤 2회 | 상품 수: 35\n",
            "스크롤 3회 | 상품 수: 55\n",
            "스크롤 4회 | 상품 수: 55\n",
            "더 이상 상품이 추가되지 않음\n",
            "저장 완료: saved_html/category_pages/선케어.html\n",
            "카테고리: 마스크_팩 시작 → https://shopping.naver.com/window/fashion-group/category/20006513?sort=DISPLAY_CATEGORY_GENDER_AGE_GROUP_F20\n",
            "스크롤 1회 | 상품 수: 15\n",
            "스크롤 2회 | 상품 수: 40\n",
            "스크롤 3회 | 상품 수: 60\n",
            "스크롤 4회 | 상품 수: 55\n",
            "스크롤 5회 | 상품 수: 55\n",
            "더 이상 상품이 추가되지 않음\n",
            "저장 완료: saved_html/category_pages/마스크_팩.html\n",
            "카테고리: 클렌징 시작 → https://shopping.naver.com/window/fashion-group/category/20006522?sort=DISPLAY_CATEGORY_GENDER_AGE_GROUP_F20\n",
            "스크롤 1회 | 상품 수: 15\n",
            "스크롤 2회 | 상품 수: 40\n",
            "스크롤 3회 | 상품 수: 60\n",
            "스크롤 4회 | 상품 수: 55\n",
            "스크롤 5회 | 상품 수: 55\n",
            "더 이상 상품이 추가되지 않음\n",
            "저장 완료: saved_html/category_pages/클렌징.html\n"
          ]
        }
      ]
    },
    {
      "cell_type": "markdown",
      "source": [
        "테스트용"
      ],
      "metadata": {
        "id": "FjeOdBla2oa7"
      }
    },
    {
      "cell_type": "code",
      "source": [
        "from selenium import webdriver\n",
        "from selenium.webdriver.chrome.options import Options\n",
        "from selenium.webdriver.common.by import By\n",
        "import time\n",
        "from bs4 import BeautifulSoup\n",
        "\n",
        "# 셀레니움 드라이버 설정\n",
        "options = Options()\n",
        "options.add_argument(\"--headless=new\")\n",
        "options.add_argument(\"--no-sandbox\")\n",
        "options.add_argument(\"--disable-dev-shm-usage\")\n",
        "options.add_argument(\"--window-size=1920,1080\")\n",
        "driver = webdriver.Chrome(options=options)\n",
        "\n",
        "# ✅ 1. 카테고리 URL 수집 함수\n",
        "def get_categories(main_url):\n",
        "    driver.get(main_url)\n",
        "    time.sleep(5)\n",
        "    soup = BeautifulSoup(driver.page_source, \"html.parser\")\n",
        "    category_tags = soup.find_all(\"li\", class_=\"displayCategoryImageMenu_list__eEKrH\")\n",
        "\n",
        "    categories = []\n",
        "    for li in category_tags:\n",
        "        name_tag = li.find(\"span\", class_=\"displayCategoryImageMenu_title__Wizki\")\n",
        "        name = name_tag.get_text(strip=True) if name_tag else None\n",
        "\n",
        "        button_tag = li.find(\"button\")\n",
        "        relative_url = button_tag.get(\"data-shp-contents-id\") if button_tag else None\n",
        "        full_url = \"https://shopping.naver.com\" + relative_url if relative_url else None\n",
        "\n",
        "        if name and full_url:\n",
        "            categories.append({\"name\": name.replace(\"/\", \"_\"), \"url\": full_url})\n",
        "    return categories\n",
        "\n",
        "# ✅ 2. 카테고리 URL 수집 및 출력\n",
        "MAIN_URL = \"https://shopping.naver.com/window/fashion-group/category/20006491?sort=DISPLAY_CATEGORY_GENDER_AGE_GROUP_F20\"\n",
        "category_list = get_categories(MAIN_URL)\n",
        "\n",
        "print(\"📌 수집된 카테고리 URL:\")\n",
        "for cat in category_list:\n",
        "    print(f\"{cat['name']} → {cat['url']}\")\n",
        "\n",
        "# ✅ 3. 하나의 카테고리 URL 테스트\n",
        "test_url = category_list[1][\"url\"]  # 예: 2번째 카테고리 사용\n",
        "driver.get(test_url)\n",
        "time.sleep(5)\n",
        "\n",
        "# ✅ 4. 해당 li 태그 존재 여부 확인\n",
        "soup = BeautifulSoup(driver.page_source, \"html.parser\")\n",
        "card_wrapper = soup.find(\"li\", class_=\"displayCategoryCardListWrapper_display_category_card_list_wrapper__HthSR\")\n",
        "\n",
        "if card_wrapper:\n",
        "    print(\"✅ 상품 카드 wrapper 태그를 찾았습니다:\")\n",
        "    print(card_wrapper.prettify())\n",
        "else:\n",
        "    print(\"❌ 상품 카드 wrapper 태그를 찾지 못했습니다.\")\n",
        "\n",
        "driver.quit()\n"
      ],
      "metadata": {
        "colab": {
          "base_uri": "https://localhost:8080/"
        },
        "id": "bna1YDTa72cr",
        "outputId": "c6601db7-0c50-4b65-b2e1-a001dbfbd181"
      },
      "execution_count": null,
      "outputs": [
        {
          "output_type": "stream",
          "name": "stdout",
          "text": [
            "📌 수집된 카테고리 URL:\n",
            "전체 → https://shopping.naver.com/window/fashion-group/category/20006491\n",
            "스킨케어 → https://shopping.naver.com/window/fashion-group/category/20006492\n",
            "선케어 → https://shopping.naver.com/window/fashion-group/category/20006505\n",
            "마스크_팩 → https://shopping.naver.com/window/fashion-group/category/20006513\n",
            "클렌징 → https://shopping.naver.com/window/fashion-group/category/20006522\n",
            "메이크업 → https://shopping.naver.com/window/fashion-group/category/20006536\n",
            "네일케어 → https://shopping.naver.com/window/fashion-group/category/20006567\n",
            "바디케어 → https://shopping.naver.com/window/fashion-group/category/20006585\n",
            "헤어케어 → https://shopping.naver.com/window/fashion-group/category/20006612\n",
            "뷰티소품 → https://shopping.naver.com/window/fashion-group/category/20006651\n",
            "향수 → https://shopping.naver.com/window/fashion-group/category/20006681\n",
            "남성화장품 → https://shopping.naver.com/window/fashion-group/category/20006688\n",
            "뷰티디바이스 → https://shopping.naver.com/window/fashion-group/category/20006713\n",
            "유아동화장품 → https://shopping.naver.com/window/fashion-group/category/20006719\n",
            "✅ 상품 카드 wrapper 태그를 찾았습니다:\n",
            "<li class=\"displayCategoryCardListWrapper_display_category_card_list_wrapper__HthSR\" style=\"position: absolute; top: 0px; left: 0px;\">\n",
            " <div class=\"displayCategoryProductCard_display_category_product_card__od27_\">\n",
            "  <div class=\"displayCategoryProductCard_thumbnail__j3V22\">\n",
            "   <div class=\"displayCategoryProductCard_ranking__cNyDV\" id=\"integrated_category_product_card_ranking_10661966119\">\n",
            "    1\n",
            "    <span class=\"blind\">\n",
            "     위\n",
            "    </span>\n",
            "   </div>\n",
            "   <img alt=\"더마팩토리 나이아신아마이드 20%(200,000ppm) 세럼 30ml 이미지\" class=\"autoFitImg_auto_fit_img__Ba1R1 autoFitImg_full_height__ehR60 displayCategoryProductCard_image__SoKsM\" data-src=\"https://shop-phinf.pstatic.net/20240904_187/1725416903563kLwrH_JPEG/9024534417284864_1501338786.jpg?type=w640\" src=\"https://shop-phinf.pstatic.net/20240904_187/1725416903563kLwrH_JPEG/9024534417284864_1501338786.jpg?type=w640\" style=\"opacity: 1;\"/>\n",
            "   <button class=\"productKeepButton_product_keep_button__SQBlu\" data-nlog-class=\" _nlog_click _nlog_impression_element\" data-shp-area=\"catlist.mylist\" data-shp-area-id=\"mylist\" data-shp-area-type=\"slot\" data-shp-contents-grp=\"event\" data-shp-contents-id=\"10661966119\" data-shp-contents-provider-id=\"102428371\" data-shp-contents-provider-type=\"chnl_no\" data-shp-contents-type=\"mylist\" data-shp-inventory=\"catlist\" data-shp-nsc=\"shoppingw.fashion\" data-shp-order_con='[{\"key\":\"sort\",\"value\":\"DISPLAY_CATEGORY_GENDER_AGE_GROUP_F30\"}]' data-shp-page-key=\"100409761\" data-shp-sti=\"shopping\" type=\"button\">\n",
            "    <span class=\"productKeepButton_icon_area__so_tR\">\n",
            "     <svg class=\"productKeepButton_icon__jmaUP\" fill=\"none\" height=\"10\" viewbox=\"0 0 12 10\" width=\"12\" xmlns=\"http://www.w3.org/2000/svg\">\n",
            "      <path d=\"M5.096 1.408A2.61 2.61 0 003.263.667a2.6 2.6 0 00-1.832.741 2.503 2.503 0 000 3.598l4.56 4.388L10.7 4.867c.89-.985.842-2.512-.128-3.459A2.603 2.603 0 008.74.667c-.693 0-1.345.262-1.834.741L4.89 3.353a1.207 1.207 0 00-.386.881c0 .332.137.646.386.882a1.38 1.38 0 001.871 0l1.964-1.887\" stroke=\"currentColor\" stroke-linecap=\"round\" stroke-linejoin=\"round\">\n",
            "      </path>\n",
            "     </svg>\n",
            "    </span>\n",
            "    <span class=\"blind\">\n",
            "     찜하기\n",
            "    </span>\n",
            "   </button>\n",
            "  </div>\n",
            "  <div class=\"displayCategoryProductCard_information__AblZH\" id=\"integrated_category_product_card_information_10661966119\">\n",
            "   <div class=\"productBrandBadge_product_brand_badge__yFBlY\">\n",
            "    <div class=\"productBrandBadge_store__JwNoZ\">\n",
            "     더마팩토리\n",
            "    </div>\n",
            "   </div>\n",
            "   <strong class=\"productName_product_name__umFEn\">\n",
            "    더마팩토리 나이아신아마이드 20%(200,000ppm) 세럼 30ml\n",
            "   </strong>\n",
            "   <div class=\"productPrice_product_price__Figdf\">\n",
            "    <div class=\"productPrice_benefit_area__md9gf\">\n",
            "     <span class=\"productPrice_number__lYegc\">\n",
            "      6,000원\n",
            "     </span>\n",
            "    </div>\n",
            "    <div class=\"productPrice_price_area__NPM_R\">\n",
            "     <span class=\"productPrice_discount__GOxXb\">\n",
            "      <span class=\"blind\">\n",
            "       할인율\n",
            "      </span>\n",
            "      20%\n",
            "     </span>\n",
            "     <span class=\"productPrice_price__iWlnj\">\n",
            "      <span class=\"productPrice_number__lYegc\">\n",
            "       4,800\n",
            "      </span>\n",
            "      <span class=\"productPrice_unit__XzCmC\">\n",
            "       원\n",
            "      </span>\n",
            "     </span>\n",
            "    </div>\n",
            "   </div>\n",
            "   <ul class=\"productStat_product_stat__k1MiG\">\n",
            "    <li class=\"productStat_list__3AHWB\">\n",
            "     찜 999+\n",
            "    </li>\n",
            "    <li class=\"productStat_list__3AHWB\">\n",
            "     리뷰 999+\n",
            "    </li>\n",
            "   </ul>\n",
            "  </div>\n",
            "  <a aria-labelledby=\"integrated_category_product_card_rank_10661966119 integrated_category_product_card_information_10661966119\" class=\"displayCategoryProductCard_product_link__CzZq3\" data-nlog-class=\" _nlog_click _nlog_impression_element\" data-shp-area=\"catlist.pd\" data-shp-area-id=\"pd\" data-shp-area-rank=\"1\" data-shp-area-type=\"slot\" data-shp-contents-dtl='[{\"key\":\"chnl_prod_nm\",\"value\":\"더마팩토리 나이아신아마이드 20%(200,000ppm) 세럼 30ml\"},{\"key\":\"price\",\"value\":\"4800\"},{\"key\":\"exhibition_category\",\"value\":\"20006492\"},{\"key\":\"nv_mid\",\"value\":\"88206472033\"}]' data-shp-contents-grp=\"prod\" data-shp-contents-id=\"10661966119\" data-shp-contents-provider-id=\"102428371\" data-shp-contents-provider-type=\"chnl_no\" data-shp-contents-type=\"chnl_prod_no\" data-shp-inventory=\"catlist\" data-shp-nsc=\"shoppingw.fashion\" data-shp-order_con='[{\"key\":\"sort\",\"value\":\"DISPLAY_CATEGORY_GENDER_AGE_GROUP_F30\"}]' data-shp-page-key=\"100409761\" data-shp-sti=\"shopping\" href=\"https://shopping.naver.com/window-products/beauty/10661966119?tr=fcl\">\n",
            "  </a>\n",
            " </div>\n",
            "</li>\n",
            "\n"
          ]
        }
      ]
    },
    {
      "cell_type": "markdown",
      "source": [
        "review"
      ],
      "metadata": {
        "id": "8WY_24tulp9H"
      }
    },
    {
      "cell_type": "code",
      "source": [
        "from selenium import webdriver\n",
        "from selenium.webdriver.common.by import By\n",
        "from selenium.webdriver.chrome.options import Options\n",
        "import time\n",
        "\n",
        "# 셀레니움 설정\n",
        "options = Options()\n",
        "options.add_argument('--headless')\n",
        "options.add_argument('--no-sandbox')\n",
        "options.add_argument('--disable-dev-shm-usage')\n",
        "driver = webdriver.Chrome(options=options)\n",
        "\n",
        "# 상품 상세페이지 접속\n",
        "url = \"https://shopping.naver.com/window-products/beauty/7713179801\"\n",
        "driver.get(url)\n",
        "time.sleep(3)\n",
        "\n",
        "# 리뷰 탭 클릭\n",
        "try:\n",
        "    review_tab = driver.find_element(By.CSS_SELECTOR, 'a[href*=\"#REVIEW\"]')\n",
        "    review_tab.click()\n",
        "    time.sleep(3)\n",
        "except:\n",
        "    print(\"리뷰 탭 클릭 실패\")\n",
        "\n",
        "# 스크롤로 리뷰 불러오기\n",
        "for _ in range(2):\n",
        "    driver.execute_script(\"window.scrollTo(0, document.body.scrollHeight);\")\n",
        "    time.sleep(2)\n",
        "\n",
        "# 리뷰 항목 가져오기\n",
        "review_items = driver.find_elements(By.CSS_SELECTOR, 'li.BnwL_cs1av._nlog_click._nlog_impression_element')\n",
        "\n",
        "# 첫 번째 리뷰의 HTML 출력\n",
        "if review_items:\n",
        "    print(\"리뷰 HTML 예시:\")\n",
        "    print(review_items[0].get_attribute('outerHTML'))\n",
        "else:\n",
        "    print(\"리뷰 항목이 발견되지 않았습니다.\")\n",
        "\n",
        "driver.quit()\n"
      ],
      "metadata": {
        "colab": {
          "base_uri": "https://localhost:8080/"
        },
        "id": "qcPZZa7NlpF0",
        "outputId": "721b9ba2-cc3c-4a15-8f16-db66594c6151"
      },
      "execution_count": null,
      "outputs": [
        {
          "output_type": "stream",
          "name": "stdout",
          "text": [
            "리뷰 HTML 예시:\n",
            "<li class=\"BnwL_cs1av _nlog_click _nlog_impression_element\" data-shp-page-key=\"100399929\" data-shp-sti=\"\" data-shp-nsc=\"shoppingw.beauty\" data-shp-inventory=\"revlist\" data-shp-filter_con=\"[{&quot;key&quot;:&quot;리뷰 유형&quot;,&quot;value&quot;:&quot;전체보기&quot;},{&quot;key&quot;:&quot;리뷰 토픽&quot;,&quot;value&quot;:&quot;&quot;},{&quot;key&quot;:&quot;pgn&quot;,&quot;value&quot;:&quot;1&quot;}]\" data-shp-order_con=\"[{&quot;key&quot;:&quot;리뷰 정렬&quot;,&quot;value&quot;:&quot;랭킹순&quot;}]\" data-shp-area=\"revlist.review\" data-shp-area-type=\"slot\" data-shp-area-id=\"review\" data-shp-contents-id=\"4748785097\" data-shp-contents-type=\"review\" data-shp-contents-grp=\"event\" data-shp-contents-rank=\"0\" data-shp-contents-dtl=\"[{&quot;key&quot;:&quot;img_url&quot;,&quot;value&quot;:&quot;https://phinf.pstatic.net/checkout.phinf/20250622_223/1750575630003uHPSd_JPEG/image.jpg&quot;}]\"><div class=\"_9oeeh3ukt7\"><div class=\"_3P12lHpgMB\"><a href=\"#\" class=\"_3qc99-a3Vq\" aria-expanded=\"false\"><span class=\"blind\">리뷰 더보기/접기</span></a><div class=\"_1biRUB9TyI\"><div class=\"_3-1uaKhzq4\"><div class=\"_3gvExYl9AC\"><div class=\"_1McWUwk15j\"><div class=\"_3i1mVq_JBd\"><div class=\"_1DHJ4sjyVT\"><img src=\"https://profile-phinf.pstatic.net/404/default.png?type=f80_80\" data-src=\"https://profile-phinf.pstatic.net/404/default.png?type=f80_80\" class=\"_3Lp-477Dqi\" alt=\"프로필_image\"></div><div class=\"_3HKlxxt8Ii\"><div class=\"_2V6vMO_iLm\"><span class=\"_9iVSaZa02j\"><span class=\"_3hrdz1EXfJ\" style=\"width: 100%;\"><span class=\"blind\">평점</span></span></span><em class=\"_15NU42F3kT\">5</em></div><div class=\"iWGqB6S4Lq\"><strong class=\"_2L3vDiadT9\">td****</strong><span class=\"_2L3vDiadT9\">25.06.22.</span><div class=\"_1l_Un505cC\"><a href=\"#\" class=\"_28h3oni57J _nlog_click\" role=\"button\" title=\"새 창\" data-shp-page-key=\"100399929\" data-shp-sti=\"\" data-shp-nsc=\"shoppingw.beauty\" data-shp-inventory=\"revlist\" data-shp-area=\"revlist.report\" data-shp-area-type=\"action\" data-shp-area-id=\"report\">신고</a></div></div><div class=\"_2FXNMst_ak\"><dl class=\"XbGQRlzveO\"><div class=\"_3F8sJXhFeW\"><dt class=\"CCKYhxjMDd\">피부타입</dt><dd class=\"_3y5bSL-H_P\"><span class=\"_2L3vDiadT9\">건성</span><span class=\"_2L3vDiadT9\">각질</span><span class=\"_2L3vDiadT9\">피지</span><span class=\"_2L3vDiadT9\">모공</span></dd></div><div class=\"_1QLwBCINAr\"><dt class=\"CCKYhxjMDd\">피부자극</dt><dd class=\"_3y5bSL-H_P\">아주 만족해요</dd></div><div class=\"_1QLwBCINAr\"><dt class=\"CCKYhxjMDd\">촉촉함</dt><dd class=\"_3y5bSL-H_P\">촉촉해요</dd></div><div class=\"_1QLwBCINAr _2W3qR7re1Z\"><dt class=\"CCKYhxjMDd\">세정력</dt><dd class=\"_3y5bSL-H_P\">아주 만족해요</dd></div></dl></div></div></div><div class=\"_3z6gI4oI6l\"><div class=\"_1kMfD5ErZ6\"><span class=\"byXA4FP1Bq\">한달사용</span><span class=\"_2L3vDiadT9\">좁살여드름..정말 싫은데 봄되니 클렌징 오일을 사용하니 피부가 더 뒤집히더라구요\n",
            "그래서 찾아보니 피부 자극이 덜하면서 피지도 관리해주는 클렌징 밀크를 사게 되었어요!\n",
            "인터넷에 많이 뜨는 걸로 구매했는데 지금까지 두통째 잘 쓰고 있어요\n",
            "확실히 이중세안을 해도 피부에 부담이 없고 좁쌀여드름이 더 퍼진다거나 악화되는 것 없이 잘 나온 제품인 것 같아요\n",
            "기분탓인지는 모르겠지만 얼굴이 하얘지고 있는 것 같은 너낌~</span></div></div></div><div class=\"_3Bbv1ae9fg\"><span class=\"_1DOkWFrX74\"><img src=\"https://phinf.pstatic.net/checkout.phinf/20250622_223/1750575630003uHPSd_JPEG/image.jpg?type=f300_300\" data-src=\"https://phinf.pstatic.net/checkout.phinf/20250622_223/1750575630003uHPSd_JPEG/image.jpg?type=f300_300\" class=\"_3Lp-477Dqi\" alt=\"review_image\"><span class=\"blind\">이미지 펼쳐보기</span></span></div></div></div><div class=\"qwtscNFLAB\"><div class=\"_1SaR_NnSnF\"><div class=\"_1Q6lsqDl4x\"><div class=\"_2UOli-XSOY\"><button type=\"button\" class=\"_3juKEOxI0e _nlog_click\" aria-pressed=\"false\" data-shp-page-key=\"100399929\" data-shp-sti=\"\" data-shp-nsc=\"shoppingw.beauty\" data-shp-inventory=\"revlist\" data-shp-area=\"revlist.like\" data-shp-area-type=\"action\" data-shp-area-id=\"like\"><span class=\"count\">0</span></button><div class=\"_1mUQXqW3YL\">리뷰가 도움이 되었나요?</div></div></div></div></div></div></div></div></li>\n"
          ]
        }
      ]
    }
  ]
}